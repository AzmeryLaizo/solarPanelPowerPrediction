{
 "cells": [
  {
   "cell_type": "code",
   "execution_count": 1,
   "id": "rotary-heart",
   "metadata": {},
   "outputs": [
    {
     "name": "stdout",
     "output_type": "stream",
     "text": [
      "{\"inputs\":{\"body\":{\"names\":\"2010,2011,2012,2013,2014,2015,2016,2017,2018,2019\",\"leap_day\":\"false\",\"interval\":\"60\",\"utc\":\"false\",\"full_name\":\"Honored+User\",\"email\":\"honored.user@gmail.com\",\"affiliation\":\"NREL\",\"mailing_list\":\"true\",\"reason\":\"Academic\",\"attributes\":\"dhi,dni,wind_speed,air_temperature,clearsky_dhi,clearsky_dni,clearsky_ghi,cloud_type,dew_point,fill_flag,ghi,relative_humidity,solar_zenith_angle,surface_albedo,surface_pressure,total_precipitable_water,wind_direction\",\"wkt\":\"MULTIPOINT(-118 33.84,-117.99 33.87,-118 33.84,-118.04 33.85,-118 33.85,-118.03 33.81,-117.95 33.94,-117.95 33.91,-117.94 33.93,-117.99 33.8,-118.06 33.79,-118.07 33.8,-118.07 33.75,-118.08 33.72,-118.09 33.73,-117.76 33.74,-117.79 33.62,-117.78 33.69,-118 33.71,-117.82 33.7,-117.7 33.52,-117.7 33.59,-117.67 33.7,-117.83 33.66,-117.85 33.68,-117.96 33.65,-117.83 33.64,-117.84 33.64,-117.73 33.67,-117.76 33.66,-117.76 33.7,-117.81 33.69,-117.66 33.45,-117.86 33.6,-117.9 33.67,-117.91 33.64,-117.91 33.64,-117.7 33.47,-117.67 33.64,-117.72 33.61,-117.97 33.66,-118 33.72,-118 33.67,-118.04 33.71,-117.75 33.67,-117.78 33.55,-117.78 33.54,-117.7 33.59,-117.71 33.6,-117.98 33.75,-117.72 33.57,-117.82 33.6,-117.86 33.63,-117.92 33.62,-117.87 33.62,-117.9 33.6,-117.89 33.61,-117.93 33.62,-117.62 33.42,-117.61 33.48,-117.62 33.43,-117.61 33.52,-117.63 33.75,-117.7 33.53,-117.59 33.66,-117.6 33.61,-117.99 33.75,-118 33.76,-117.99 33.75,-117.61 33.62,-117.64 33.61,-117.66 33.6,-117.64 33.6,-117.66 33.49,-117.62 33.55,-117.84 33.64,-117.83 33.67,-117.85 33.75,-117.87 33.73,-117.89 33.74,-117.9 33.71,-117.79 33.76,-117.88 33.76,-117.87 33.71,-117.94 33.71,-117.73 33.67,-117.81 33.7,-117.8 33.76,-117.87 33.75,-117.86 33.75,-117.92 33.71,-117.85 33.71,-117.82 33.74,-117.81 33.73,-117.77 33.75,-117.9 33.71,-117.95 33.84,-117.91 33.81,-117.93 33.84,-117.97 33.81,-117.91 33.82,-117.87 33.84,-117.79 33.85,-117.74 33.86,-117.74 33.86,-117.83 33.86,-117.92 33.81,-117.96 33.81,-117.91 33.83,-117.88 33.83,-117.79 33.85,-117.86 33.92,-117.89 33.91,-117.8 33.92,-117.91 33.83,-117.89 33.87,-117.92 33.86,-117.96 33.88,-117.89 33.87,-117.91 33.9,-117.9 33.87,-117.96 33.87,-117.93 33.89,-117.93 33.78,-117.97 33.78,-117.94 33.77,-117.93 33.76,-117.97 33.76,-118.02 33.78,-118.03 33.78,-117.95 33.84,-117.84 33.78,-117.84 33.83,-117.78 33.8,-117.81 33.81,-117.71 33.79,-117.82 33.81,-117.82 33.81,-117.85 33.83,-117.84 33.78,-117.84 33.8,-117.86 33.78,-117.78 33.79,-117.85 33.88,-117.85 33.88,-117.82 33.89,-117.78 33.89,-117.72 33.88,-117.87 33.83)\"},\"params\":{},\"query\":{}},\"metadata\":{\"version\":\"2.0.0\"},\"status\":400,\"errors\":[\"Request size exceeds maximum limit for single request.\",\"See https://developer.nrel.gov/docs/solar/nsrdb/guide/\",\"Data processing failure.\"]}\n"
     ]
    }
   ],
   "source": [
    "import requests\n",
    "\n",
    "url = \"https://developer.nrel.gov/api/nsrdb/v2/solar/psm3-download.json?api_key=Ct2lwKpSBNF0VicAQAjxYebrjED1qc1vdoTJUhAj\"\n",
    "\n",
    "payload = \"names=2010%2C2011%2C2012%2C2013%2C2014%2C2015%2C2016%2C2017%2C2018%2C2019&leap_day=false&interval=60&utc=false&full_name=Honored%2BUser&email=honored.user%40gmail.com&affiliation=NREL&mailing_list=true&reason=Academic&attributes=dhi%2Cdni%2Cwind_speed%2Cair_temperature%2Cclearsky_dhi%2Cclearsky_dni%2Cclearsky_ghi%2Ccloud_type%2Cdew_point%2Cfill_flag%2Cghi%2Crelative_humidity%2Csolar_zenith_angle%2Csurface_albedo%2Csurface_pressure%2Ctotal_precipitable_water%2Cwind_direction&wkt=MULTIPOINT(-118%2033.84%2C-117.99%2033.87%2C-118%2033.84)\"\n",
    "\n",
    "headers = {\n",
    "    'content-type': \"application/x-www-form-urlencoded\",\n",
    "    'cache-control': \"no-cache\"\n",
    "}\n",
    "\n",
    "response = requests.request(\"POST\", url, data=payload, headers=headers)\n",
    "\n",
    "print(response.text)"
   ]
  },
  {
   "cell_type": "code",
   "execution_count": null,
   "id": "vietnamese-compromise",
   "metadata": {},
   "outputs": [],
   "source": []
  }
 ],
 "metadata": {
  "kernelspec": {
   "display_name": "Python 3",
   "language": "python",
   "name": "python3"
  },
  "language_info": {
   "codemirror_mode": {
    "name": "ipython",
    "version": 3
   },
   "file_extension": ".py",
   "mimetype": "text/x-python",
   "name": "python",
   "nbconvert_exporter": "python",
   "pygments_lexer": "ipython3",
   "version": "3.8.5"
  }
 },
 "nbformat": 4,
 "nbformat_minor": 5
}

